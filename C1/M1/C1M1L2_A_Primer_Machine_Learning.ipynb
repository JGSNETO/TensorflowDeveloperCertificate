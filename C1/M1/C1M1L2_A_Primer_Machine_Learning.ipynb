{
 "cells": [
  {
   "cell_type": "markdown",
   "id": "963076e1-73d9-4b20-8802-f737e25c1572",
   "metadata": {},
   "source": [
    "# Traditional Programming x Machine learning\n",
    "\n",
    "## Traditional Programming\n",
    "- Input: Rules & Data\n",
    "- Outpu: Answers\n",
    "## Machine Learning\n",
    "- Input: Answers & Data\n",
    "- Output: Rules\n",
    "\n",
    "- ML alorithm figure out parterns among the data"
   ]
  },
  {
   "cell_type": "code",
   "execution_count": null,
   "id": "17d01f6d-bc99-464a-904e-e247955db5da",
   "metadata": {},
   "outputs": [],
   "source": []
  }
 ],
 "metadata": {
  "kernelspec": {
   "display_name": "Python 3 (ipykernel)",
   "language": "python",
   "name": "python3"
  },
  "language_info": {
   "codemirror_mode": {
    "name": "ipython",
    "version": 3
   },
   "file_extension": ".py",
   "mimetype": "text/x-python",
   "name": "python",
   "nbconvert_exporter": "python",
   "pygments_lexer": "ipython3",
   "version": "3.8.0"
  }
 },
 "nbformat": 4,
 "nbformat_minor": 5
}
