{
 "cells": [
  {
   "cell_type": "markdown",
   "id": "0a4d8b74-b046-42cc-a045-6518e45eb3ae",
   "metadata": {},
   "source": [
    "# An introduction to computer vision\n",
    "\n",
    "- Computer visions is the field of having a computer understand and label what is present in an image.\n",
    "- Example will be created using Fashion MNIST.\n",
    "- Small images are better for less processing power needed. But we need to have small but still be able to recognize.\n",
    "\n",
    "# Writing code to load training data\n",
    "\n",
    "- fashion_mnist = tf.keras.datasets.fashion_mnist\n",
    "- (train_images, train_labels), (test_images, test_labels) =  fashion_mnist.load_data()\n",
    "- train_images: Input image\n",
    "- train_label: Describe the picuture in image(e.g: #9)\n",
    "- 60k to train x 10k to test\n",
    "\n"
   ]
  },
  {
   "cell_type": "markdown",
   "id": "c5bec617-2d29-4df0-bd29-631159ba62aa",
   "metadata": {},
   "source": [
    "# Coding a computer vision neural network\n",
    "1. Three layers.\n",
    "2. The last layer has 10 neurons in it because we have ten calsses of clothing in the dataset. They should always match.\n",
    "3. The first layer is a flatten layer with the input chaping by 28x28. Our images are 28x28, so we are specifying that this is the shape that we should expect the data to be in. Flatten takes this 28x28 square and turns it into a simple linear array.\n",
    "4. The midle layer or the \"hidden\" layer. This is a 128 neurons in it, and we think them like variables in a function. Now, there exists a rule that incorporates all of these that turns the (28x28) values of an ankle boot into the value nine, and similar for all of the other 70,000."
   ]
  },
  {
   "cell_type": "code",
   "execution_count": null,
   "id": "d5ee59d4-e893-4f7e-8925-8ac2de7506c9",
   "metadata": {},
   "outputs": [],
   "source": [
    "model = keras.Sequential([\n",
    "    keras.layers.Flatten(input_shape=(28, 28)),\n",
    "    keras.layers.Dense(128, activation = tf.nn.relu),\n",
    "    keras.layers.Dense(10, activation=tf.nn.softmax)\n",
    "])"
   ]
  },
  {
   "cell_type": "markdown",
   "id": "0e3c01dd-9d8b-4d57-b30e-80c43c73d41c",
   "metadata": {},
   "source": [
    "# Callbacks Functions\n",
    "\n",
    "- On every epoch, you can callback to a code function, having checked the metrics. If they are what you want to say, then you can cancel the training at that point.\n"
   ]
  },
  {
   "cell_type": "code",
   "execution_count": null,
   "id": "2b8ad6d7-3d78-4b6d-b40e-ca7c935ccd7b",
   "metadata": {},
   "outputs": [],
   "source": [
    "class mycallback(tf.keras.callbacks.Callback):\n",
    "    def on_epoch_end(self, epoch, logs={}):\n",
    "        if(logs.get('loss')<0.4):\n",
    "            print(\"\\nLoss is low so cancelling training\")\n",
    "            self.model.stop_training = True"
   ]
  }
 ],
 "metadata": {
  "kernelspec": {
   "display_name": "Python 3 (ipykernel)",
   "language": "python",
   "name": "python3"
  },
  "language_info": {
   "codemirror_mode": {
    "name": "ipython",
    "version": 3
   },
   "file_extension": ".py",
   "mimetype": "text/x-python",
   "name": "python",
   "nbconvert_exporter": "python",
   "pygments_lexer": "ipython3",
   "version": "3.8.0"
  }
 },
 "nbformat": 4,
 "nbformat_minor": 5
}
