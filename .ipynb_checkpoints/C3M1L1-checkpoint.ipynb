{
 "cells": [
  {
   "cell_type": "code",
   "execution_count": 1,
   "id": "7858d9d4-b280-4fee-8762-7a82cf08bd46",
   "metadata": {},
   "outputs": [],
   "source": [
    "# Start of the course"
   ]
  },
  {
   "cell_type": "code",
   "execution_count": null,
   "id": "8f04a777-cdfe-42f7-bca6-597e7682ffc7",
   "metadata": {},
   "outputs": [],
   "source": []
  }
 ],
 "metadata": {
  "kernelspec": {
   "display_name": "Python 3 (ipykernel)",
   "language": "python",
   "name": "python3"
  },
  "language_info": {
   "codemirror_mode": {
    "name": "ipython",
    "version": 3
   },
   "file_extension": ".py",
   "mimetype": "text/x-python",
   "name": "python",
   "nbconvert_exporter": "python",
   "pygments_lexer": "ipython3",
   "version": "3.8.0"
  }
 },
 "nbformat": 4,
 "nbformat_minor": 5
}
