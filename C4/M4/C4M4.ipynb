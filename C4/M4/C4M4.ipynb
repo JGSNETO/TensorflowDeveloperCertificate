{
 "cells": [
  {
   "cell_type": "markdown",
   "metadata": {},
   "source": [
    "# Convolutions\n",
    "\n",
    "- In AI, particularly, CNNs(Convolution neural network), it refers to applying a filter/kernel to an input to extract features such as edges, textures, or patterns. \n",
    "\n",
    "## How convolutions work in CNNs\n",
    "\n",
    "1. Input: The input is usually a multi-dimentional array, such as an image. \n",
    "2. Filter: A smal matrix(e.g: 3x3, 5x5) with numerical values is slid over the input array. This kernel highlights specific features of the input. \n",
    "3. Sliding/Stiding: The kernel moves across the image with a certain step size. At each position, it performs an element-wise multiplication between the kernel and the overlapping input region.\n",
    "4. Result(Feature map): The summed result of these multiplications forms the feature map, which represents how well the feature encoded by the kernel is present in different regions of the input. "
   ]
  },
  {
   "cell_type": "code",
   "execution_count": null,
   "metadata": {},
   "outputs": [],
   "source": [
    "import tensorflow as tf\n",
    "from tensorflow.keras.models import Sequential\n",
    "from tensorflow.keras.layers import Conv2D, MaxPooling2D, Flatten, Dense, Dropout\n",
    "from tensorflow.keras.datasets import mnist\n",
    "from tensorflow.keras.utils import to_categorical\n",
    "\n",
    "# Load the MNIST dataset\n",
    "(x_train, y_train), (x_test, y_test) = mnist.load_data()\n",
    "\n",
    "# Preprocess the data\n",
    "x_train = x_train.reshape((x_train.shape[0], 28, 28, 1)) / 255.0  # Normalize to [0, 1]\n",
    "x_test = x_test.reshape((x_test.shape[0], 28, 28, 1)) / 255.0\n",
    "\n",
    "y_train = to_categorical(y_train, 10)  # One-hot encode labels\n",
    "y_test = to_categorical(y_test, 10)\n",
    "\n",
    "# Build the CNN model\n",
    "model = Sequential([\n",
    "    Conv2D(32, (3, 3), activation='relu', input_shape=(28, 28, 1)),  # 32 filters, 3x3 kernel\n",
    "    MaxPooling2D((2, 2)),  # Reduce spatial dimensions by 2\n",
    "    Conv2D(64, (3, 3), activation='relu'),  # 64 filters, 3x3 kernel\n",
    "    MaxPooling2D((2, 2)),  # Reduce spatial dimensions again\n",
    "    Flatten(),  # Flatten 2D feature maps to 1D\n",
    "    Dense(128, activation='relu'),  # Fully connected layer with 128 neurons\n",
    "    Dropout(0.5),  # Dropout to prevent overfitting\n",
    "    Dense(10, activation='softmax')  # Output layer for 10 classes\n",
    "])\n",
    "\n",
    "# Compile the model\n",
    "model.compile(optimizer='adam',\n",
    "              loss='categorical_crossentropy',\n",
    "              metrics=['accuracy'])\n",
    "\n",
    "# Train the model\n",
    "model.fit(x_train, y_train, epochs=5, batch_size=32, validation_split=0.2)\n",
    "\n",
    "# Evaluate the model\n",
    "test_loss, test_acc = model.evaluate(x_test, y_test)\n",
    "print(f\"Test accuracy: {test_acc:.2f}\")\n"
   ]
  }
 ],
 "metadata": {
  "language_info": {
   "name": "python"
  }
 },
 "nbformat": 4,
 "nbformat_minor": 2
}
