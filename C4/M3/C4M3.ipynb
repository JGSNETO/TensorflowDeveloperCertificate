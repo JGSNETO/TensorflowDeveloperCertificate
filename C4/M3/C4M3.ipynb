{
 "cells": [
  {
   "cell_type": "markdown",
   "metadata": {},
   "source": [
    "# Lambda Layer\n",
    "\n",
    "- Lambda layer is a flexible, user-defined layer that allows you to apply custom operations to the input of the layer. It is often used to implement simple or complex functions without needing to define a full custom layer class. \n",
    "\n",
    "## Key features of a Lambda Layer\n",
    "\n",
    "1. Custom operations\n",
    "- A lambda layer can be used to apply mathematical operations, transformations, or arbitrary functions to the input tensot. \n",
    "2. Inline definition\n",
    "- You can define the function directly inline as a python lambda function or as a named python function. \n",
    "3. No parameters\n",
    "- Unlike dense, convolutional, or recurrent layers, a Lambda layer typically does not have trainable parameters.\n",
    "4. Flexibility:\n",
    "- It is ideal for tasks like slicing, reshaping, scaling, combining inouts or applying element wise functions. "
   ]
  },
  {
   "cell_type": "markdown",
   "metadata": {
    "vscode": {
     "languageId": "plaintext"
    }
   },
   "source": [
    "# Scaling Input Values"
   ]
  },
  {
   "cell_type": "code",
   "execution_count": null,
   "metadata": {},
   "outputs": [],
   "source": [
    "from tensorflow.keras.layers import Lambda\n",
    "from tensorflow.keras.models import Sequential\n",
    "\n",
    "model = Sequential([\n",
    "    Lambda(lambda x: x / 255.0, input_shape=(28, 28, 1))  # Normalizing pixel values\n",
    "])\n"
   ]
  },
  {
   "cell_type": "markdown",
   "metadata": {},
   "source": [
    "# Custom Tensor Operation"
   ]
  },
  {
   "cell_type": "code",
   "execution_count": null,
   "metadata": {},
   "outputs": [],
   "source": [
    "model.add(Lambda(lambda x: x ** 2))  # Square each element in the input tensor\n"
   ]
  },
  {
   "cell_type": "markdown",
   "metadata": {},
   "source": [
    "# Adding or Modifying Dimensions"
   ]
  },
  {
   "cell_type": "code",
   "execution_count": null,
   "metadata": {},
   "outputs": [],
   "source": [
    "model.add(Lambda(lambda x: x[:, :, ::-1]))  # Flip the tensor along the last dimension\n"
   ]
  }
 ],
 "metadata": {
  "kernelspec": {
   "display_name": "Python 3",
   "language": "python",
   "name": "python3"
  },
  "language_info": {
   "codemirror_mode": {
    "name": "ipython",
    "version": 3
   },
   "file_extension": ".py",
   "mimetype": "text/x-python",
   "name": "python",
   "nbconvert_exporter": "python",
   "pygments_lexer": "ipython3",
   "version": "3.6.8"
  }
 },
 "nbformat": 4,
 "nbformat_minor": 2
}
