{
 "cells": [
  {
   "cell_type": "markdown",
   "metadata": {},
   "source": [
    "# How to prepare time series data for machine larning by creating a window dataset\n",
    "\n",
    "- Creating a window dataset is a common technique for preparing time series data for machine larning. It inveolves splitting the data into overlapping segments (or windows) that capture the temporal relationships within the data. \n",
    "\n",
    "## What is a window dataset\n",
    "\n",
    "- A window dataset breaks a time series into input-output pairs by defining a fixed \"window size\". The window includes several consecutive time steps of the series as inputs, and optionally the next step as outputs. This makes the data suitable for machine learning algorithms that typically expect fixed-size inputs. \n",
    "\n",
    "## Steps to prepare a window dataset\n",
    "\n",
    "1. Define the window size\n",
    "- Decide how many consecutive time steps will be included in each input window. For example a window size of 3 means each input will consist of 3 time steps\n",
    "\n",
    "2. Slide the window across the seris\n",
    "- Use a sliding window approach to generate overlapping input-output pairs:\n",
    "- Inputs: The window of time step\n",
    "- Outputs: The value you want to predict (Usually the next time step)\n",
    "\n",
    "3. Hanle Train-Test split:\n",
    "- Split the dataset into training, validation, and test sets. Ensure no data leakage.\n",
    "\n",
    "4. Feature scaling(Optional)\n",
    "- Normalize or standardize the data to improve model performance.\n",
    "\n",
    "5. Convert to arrays\n",
    "- Machine learning models typicallly expect data in a structure format like NumPy arrays, Tensorflow datasets or Pytorch tensor. \n",
    "\n",
    "6. Data augmentation(Optional)\n",
    "- Augment the data by creating additional features such as \n",
    "- Lagged values (e.g, values from t-1, t-2)\n",
    "- Moving averages or rolling statistics\n",
    "\n",
    "7. Reshape for the model(Optional)\n",
    "- For certain models (e.g recurrent neural networks), the input may need reshaping to include dimentions for samples, time steps and features."
   ]
  },
  {
   "cell_type": "code",
   "execution_count": 1,
   "metadata": {},
   "outputs": [
    {
     "name": "stdout",
     "output_type": "stream",
     "text": [
      "Inputs (X): [[1 2 3]\n",
      " [2 3 4]\n",
      " [3 4 5]]\n",
      "Outputs (y): [4 5 6]\n"
     ]
    }
   ],
   "source": [
    "import numpy as np\n",
    "\n",
    "# Sample time series data\n",
    "time_series = np.array([1, 2, 3, 4, 5, 6])\n",
    "\n",
    "# Function to create windows\n",
    "def create_window_dataset(data, window_size):\n",
    "    X, y = [], []\n",
    "    for i in range(len(data) - window_size):\n",
    "        X.append(data[i:i + window_size])  # Input window\n",
    "        y.append(data[i + window_size])   # Next value (output)\n",
    "    return np.array(X), np.array(y)\n",
    "\n",
    "# Define window size\n",
    "window_size = 3\n",
    "\n",
    "# Create the window dataset\n",
    "X, y = create_window_dataset(time_series, window_size)\n",
    "\n",
    "# Output\n",
    "print(\"Inputs (X):\", X)\n",
    "print(\"Outputs (y):\", y)\n"
   ]
  }
 ],
 "metadata": {
  "kernelspec": {
   "display_name": "Python 3",
   "language": "python",
   "name": "python3"
  },
  "language_info": {
   "codemirror_mode": {
    "name": "ipython",
    "version": 3
   },
   "file_extension": ".py",
   "mimetype": "text/x-python",
   "name": "python",
   "nbconvert_exporter": "python",
   "pygments_lexer": "ipython3",
   "version": "3.6.8"
  }
 },
 "nbformat": 4,
 "nbformat_minor": 2
}
