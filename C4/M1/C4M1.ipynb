{
 "cells": [
  {
   "cell_type": "markdown",
   "metadata": {},
   "source": [
    "# Sequence model\n",
    "\n",
    "- A sequence model in machine learning is a type of model designed to process and predict data where the order of elements matters, such as time-series, text, or audio. These models capture dependencies between sequential elements, often using architectures like recurrent neural networks (RNNs), long short term memory networks(LSTMs), Gated reccurent units(GRUs), or transformers, enabling them to understand temporal patterns or relationships in the data. \n",
    "\n",
    "# Time series\n",
    "\n",
    "- Time series refers to a sequence of data points collected or recorded at successive, equally spaced points in time. It is characterized by temporal dependencies, meaning past values influence future values. Common tasks with time series data include:\n",
    "\n",
    "1. Forecasting\n",
    "2. Classification\n",
    "3. Anomaly detection\n",
    "4. Clustering\n",
    "\n"
   ]
  }
 ],
 "metadata": {
  "language_info": {
   "name": "python"
  }
 },
 "nbformat": 4,
 "nbformat_minor": 2
}
