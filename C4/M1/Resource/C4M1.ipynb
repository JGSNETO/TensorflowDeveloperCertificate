{
 "cells": [
  {
   "cell_type": "markdown",
   "metadata": {},
   "source": [
    "# Sequence model\n",
    "\n",
    "- A sequence model in machine learning is a type of model designed to process and predict data where the order of elements matters, such as time-series, text, or audio. These models capture dependencies between sequential elements, often using architectures like recurrent neural networks (RNNs), long short term memory networks(LSTMs), Gated reccurent units(GRUs), or transformers, enabling them to understand temporal patterns or relationships in the data. \n",
    "\n",
    "# Time series\n",
    "\n",
    "- Time series refers to a sequence of data points collected or recorded at successive, equally spaced points in time. It is characterized by temporal dependencies, meaning past values influence future values. Common tasks with time series data include:\n",
    "\n",
    "1. Forecasting\n",
    "2. Classification\n",
    "3. Anomaly detection\n",
    "4. Clustering\n",
    "\n",
    "# Train, Validation and Test Sets\n",
    "\n",
    "- Naive Forecasting: Take the last value and assume that the next value will be the same one.\n",
    "\n",
    "## How to measure the performance ?\n",
    "\n",
    "- Fixed partitioning: We typically want to split the time series into a training period, a validation period and a test period. You generally want to ensure that each period contains a whole number of seasons, for example one year or two years or three years. \n",
    "\n",
    "- Next you'll train your model on the training period and you'll evaluate it on the validation period. Here's where you can experiment to find the right architecture for training and work on it and your hyper parameters until you get the desired performance measured using the validation set. Often, once you've done that, you can retrain using both the training and validation data, and then test on the test period to see if your model will perform just as well. And if it does, then you could take the unusual step of retraining again using also the test data. Why would you do that? Well, it's because the test data is the closest data you have to the current point in time, and as such it's often the strongest signal in determining future values. If your model is not trained using that data too, then it may not be optimal due to this. It's actually quite common to forego a test set altogether and just train using a training period and a validation period, and the test set is in the future. \n",
    "\n",
    "- Roll-forward partitioning: It is a method used in time seiries model evaluation to simulate real-world forecasting scenarios while validating the model's performance. It involves splitting the time series data into training and testing sets in a sequential manner, ensuring that the testing set always occurs after the training set in time. \n",
    "\n",
    "1. MSR: Mean Squared Residual\n",
    "- Average squared errors\n",
    "- Penalizes large errors heavily\n",
    "\n",
    "2. RMSE: Root mean squared Error\n",
    "- Square root of MRS\n",
    "- Error in the same units as the target\n",
    "- Sensitive to outliers\n",
    "\n",
    "3. MAE: Mean absolute error\n",
    "- Average absolute errors\n",
    "- Treats all errors equally\n",
    "- Less sensitive to outliers\n",
    "\n",
    "4. MAPE: Mean absolute percentage error\n",
    "- Average percentage error\n",
    "- Scale-Independent\n",
    "- Can be problematic with near-zero actual values\n",
    "\n",
    "- Centered windows for moving averages are more accurate than trainling windows because they consider both past and future data, providing a valanced view and reducing lag. However, centered windows require future data, making them unsuitable for real-time applications. \n"
   ]
  }
 ],
 "metadata": {
  "language_info": {
   "name": "python"
  }
 },
 "nbformat": 4,
 "nbformat_minor": 2
}
