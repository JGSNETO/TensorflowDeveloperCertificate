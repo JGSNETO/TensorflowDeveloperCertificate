{
 "cells": [
  {
   "cell_type": "markdown",
   "id": "4df0fbac-7878-4115-9a8a-836b1c945c4c",
   "metadata": {},
   "source": [
    "1. Question 1\n",
    "In the lectures, what is the name of the layer used to generate the vocabulary?: TextVectorization"
   ]
  },
  {
   "cell_type": "markdown",
   "id": "56f94792-0702-4ede-9c84-af56c363c9f1",
   "metadata": {},
   "source": [
    "2. Once you have generated a vocabulary, how do you encode a string sentence to an integer sequence? Pass the string to the adapted TextVectorization layer"
   ]
  },
  {
   "cell_type": "markdown",
   "id": "cd34844f-bea1-4b0a-aad7-4ee4c0222615",
   "metadata": {},
   "source": [
    "3. Question 3\n",
    "If you have a number of sequences of different lengths, how do you ensure that they are understood when fed into a neural network? Use the pad_sequences function from tf.keras.utils"
   ]
  },
  {
   "cell_type": "markdown",
   "id": "56a6bcea-76d6-4500-a756-58d6a4929534",
   "metadata": {},
   "source": [
    "4. What happend at encoding when passing a string that is not part of the vocabulary ? An out of vocabulary token is used to represent it"
   ]
  },
  {
   "cell_type": "markdown",
   "id": "773b4324-d08e-403a-b7f8-8f21687f73a4",
   "metadata": {},
   "source": [
    "5. When padding sequences, if you want the padding to be at the end of the sequence, how do you do it? Pass padding = 'post' to pad_sequences when initializint it"
   ]
  },
  {
   "cell_type": "markdown",
   "id": "9b76e0e4-9f4d-4216-9623-4ea32e2bb888",
   "metadata": {},
   "source": [
    "6. What's one way to convert a list of strings named 'sentences' to integer sequences? Assume you adapted a TextVectorization layer and assigned it to a variable named 'vectorize_layer': vectorize_layer(sentences)"
   ]
  },
  {
   "cell_type": "markdown",
   "id": "2ce46aa9-7677-46da-b297-e86bfb84443c",
   "metadata": {},
   "source": [
    "7. Question 7\n",
    "If you have a number of sequences of different length, and call pad_sequences on them, what’s the default result? They will get padded to the length of the longest sequence by adding zeros to the beginning of shorter ones"
   ]
  },
  {
   "cell_type": "markdown",
   "id": "17027545-82f1-4309-9616-585315a88786",
   "metadata": {},
   "source": [
    "8. Question 8\n",
    "Using the default settings, how does the TextVectorization standardize the string inputs? By lowercasing and stripping punctuation."
   ]
  }
 ],
 "metadata": {
  "kernelspec": {
   "display_name": "Python 3 (ipykernel)",
   "language": "python",
   "name": "python3"
  },
  "language_info": {
   "codemirror_mode": {
    "name": "ipython",
    "version": 3
   },
   "file_extension": ".py",
   "mimetype": "text/x-python",
   "name": "python",
   "nbconvert_exporter": "python",
   "pygments_lexer": "ipython3",
   "version": "3.8.0"
  }
 },
 "nbformat": 4,
 "nbformat_minor": 5
}
