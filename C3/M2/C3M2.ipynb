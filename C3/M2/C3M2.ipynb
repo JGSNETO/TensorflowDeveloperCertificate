{
 "cells": [
  {
   "cell_type": "markdown",
   "metadata": {},
   "source": [
    "# Keras layer in Tensorflow \n",
    "\n",
    "- Word embeddings in the context of natural language recognition in TensorFlow are dense vector representations of words, where each word is mapped to a fixed-size vector of continuous values. These vectors capture the semantic meaning of words, so words with similar meanings have vectors close to each other in the embedding space.\n",
    "\n",
    "- In TensorFlow, word embeddings can be learned using layers like tf.keras.layers.Embedding. The embedding layer transforms input words (represented as indices) into dense vectors, which can then be fed into models like RNNs or transformers for tasks like sentiment analysis, translation, or text classification. Word embeddings help models generalize better by encoding relationships between words beyond simple one-hot encoding.\n",
    "\n",
    "- Tokenizing text, where you turned text into sequences of numbers where the number was the value of a key value pair with the key being the word. \n",
    "\n",
    "- Using tools in TensorFlow, you were able to process strings to get indices of all the words in a corpus of strings and then convert the strings into matrices of numbers. This is the start of getting sentiment out of your sentences. \n",
    "\n",
    "- This process is called embedding with the idea being that words and associated words are clustered as vectors in a multi dimensional space. "
   ]
  },
  {
   "cell_type": "markdown",
   "metadata": {},
   "source": [
    "# The IMDB dataset\n",
    "\n",
    "- The IMDB reviews dataset is a popular dataset used for sentiment analysis, consisting of 50,000 movie reviews from the Internet Movie Database (IMDB). It is split evenly into two sets: 25,000 reviews for training and 25,000 for testing. Each review is labeled as either positive or negative, making it a binary classification task.\n",
    "\n",
    "- The dataset is widely used for training models to predict whether a given review expresses positive or negative sentiment. In TensorFlow, it can be easily loaded via tf.keras.datasets.imdb, where the reviews are preprocessed into sequences of integers, representing words or tokens.\n",
    "\n",
    "-  Expanding on this, there is a library called Tensorflow data services, or TFDS for short, and that contains many datasets in lots of different categories"
   ]
  }
 ],
 "metadata": {
  "kernelspec": {
   "display_name": "Python 3 (ipykernel)",
   "language": "python",
   "name": "python3"
  },
  "language_info": {
   "codemirror_mode": {
    "name": "ipython",
    "version": 3
   },
   "file_extension": ".py",
   "mimetype": "text/x-python",
   "name": "python",
   "nbconvert_exporter": "python",
   "pygments_lexer": "ipython3",
   "version": "3.8.0"
  }
 },
 "nbformat": 4,
 "nbformat_minor": 4
}
