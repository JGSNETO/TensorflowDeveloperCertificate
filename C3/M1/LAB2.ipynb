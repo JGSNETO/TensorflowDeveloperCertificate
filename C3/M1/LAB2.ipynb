{
 "cells": [
  {
   "cell_type": "code",
   "execution_count": 2,
   "id": "7dc201f2-d0aa-4863-bebb-08c2ac1821ac",
   "metadata": {},
   "outputs": [
    {
     "name": "stdout",
     "output_type": "stream",
     "text": [
      "0 \n",
      "1 [UNK]\n",
      "2 my\n",
      "3 love\n",
      "4 dog\n",
      "5 you\n",
      "6 i\n",
      "7 think\n",
      "8 is\n",
      "9 do\n",
      "10 cat\n",
      "11 amazing\n"
     ]
    }
   ],
   "source": [
    "import tensorflow as tf\n",
    "\n",
    "# Sample input\n",
    "sentences = [\n",
    "    'I love my dog',\n",
    "    'I love my cat',\n",
    "    'You love my dog!',\n",
    "    'Do you think my dog is amazing?'\n",
    "    ]\n",
    "\n",
    "# Initialize the layer\n",
    "vectorize_layer = tf.keras.layers.TextVectorization()\n",
    "\n",
    "# Compute the vocabulary\n",
    "vectorize_layer.adapt(sentences)\n",
    "\n",
    "# Get the vocabulaty\n",
    "vocabulary = vectorize_layer.get_vocabulary()\n",
    "\n",
    "# print the token index\n",
    "for index, word in enumerate(vocabulary):\n",
    "    print(index, word)"
   ]
  },
  {
   "cell_type": "code",
   "execution_count": 3,
   "id": "220a173e-fe7f-4bdc-932b-f092b62e6f70",
   "metadata": {},
   "outputs": [
    {
     "name": "stdout",
     "output_type": "stream",
     "text": [
      "I love my dog ---> [6 3 2 4]\n",
      "I love my cat ---> [ 6  3  2 10]\n",
      "You love my dog! ---> [5 3 2 4]\n",
      "Do you think my dog is amazing? ---> [ 9  5  7  2  4  8 11]\n"
     ]
    }
   ],
   "source": [
    "# Convert the list to tf.data.Dataset\n",
    "sentences_dataset = tf.data.Dataset.from_tensor_slices(sentences)\n",
    "\n",
    "# Define a mapping function to voncert each sample input\n",
    "sequences = sentences_dataset.map(vectorize_layer)\n",
    "\n",
    "# Print the integer sequences\n",
    "for sentence, sequence in zip(sentences, sequences):\n",
    "    print(f'{sentence} ---> {sequence}')"
   ]
  },
  {
   "cell_type": "code",
   "execution_count": 4,
   "id": "6d32b9d7-6368-4cfb-8171-9af9669d852f",
   "metadata": {},
   "outputs": [
    {
     "name": "stdout",
     "output_type": "stream",
     "text": [
      "INPUT: \n",
      "['I love my dog', 'I love my cat', 'You love my dog!', 'Do you think my dog is amazing?']\n",
      "\n",
      "OUTPUT: \n",
      "tf.Tensor(\n",
      "[[ 6  3  2  4  0  0  0]\n",
      " [ 6  3  2 10  0  0  0]\n",
      " [ 5  3  2  4  0  0  0]\n",
      " [ 9  5  7  2  4  8 11]], shape=(4, 7), dtype=int64)\n"
     ]
    }
   ],
   "source": [
    "# Apply the layer to the string input list\n",
    "sequences_post = vectorize_layer(sentences)\n",
    "\n",
    "# Print the results\n",
    "print('INPUT: ')\n",
    "print(sentences)\n",
    "print()\n",
    "\n",
    "print('OUTPUT: ')\n",
    "print(sequences_post)"
   ]
  },
  {
   "cell_type": "code",
   "execution_count": 5,
   "id": "a57fd68d-8fb7-480d-b862-c53daec8787b",
   "metadata": {},
   "outputs": [
    {
     "name": "stdout",
     "output_type": "stream",
     "text": [
      "INPUT:\n",
      "[6 3 2 4]\n",
      "[ 6  3  2 10]\n",
      "[5 3 2 4]\n",
      "[ 9  5  7  2  4  8 11]\n",
      "\n",
      "OUTPUT:\n",
      "[[ 0  0  0  6  3  2  4]\n",
      " [ 0  0  0  6  3  2 10]\n",
      " [ 0  0  0  5  3  2  4]\n",
      " [ 9  5  7  2  4  8 11]]\n"
     ]
    }
   ],
   "source": [
    "# Pre-pad the sequences to a uniform length.\n",
    "# You can remove the `padding` argument and get the same result.\n",
    "sequences_pre = tf.keras.utils.pad_sequences(sequences, padding='pre')\n",
    "\n",
    "# Print the results\n",
    "print('INPUT:')\n",
    "[print(sequence.numpy()) for sequence in sequences]\n",
    "print()\n",
    "\n",
    "print('OUTPUT:')\n",
    "print(sequences_pre)"
   ]
  },
  {
   "cell_type": "code",
   "execution_count": 6,
   "id": "a137c10c-bb81-41d3-aa29-63aa13fd804c",
   "metadata": {},
   "outputs": [
    {
     "name": "stdout",
     "output_type": "stream",
     "text": [
      "INPUT:\n",
      "[6 3 2 4]\n",
      "[ 6  3  2 10]\n",
      "[5 3 2 4]\n",
      "[ 9  5  7  2  4  8 11]\n",
      "\n",
      "OUTPUT:\n",
      "[[ 0  6  3  2  4]\n",
      " [ 0  6  3  2 10]\n",
      " [ 0  5  3  2  4]\n",
      " [ 7  2  4  8 11]]\n"
     ]
    }
   ],
   "source": [
    "# Post-pad the sequences and limit the size to 5.\n",
    "sequences_post_trunc = tf.keras.utils.pad_sequences(sequences, maxlen=5, padding='pre')\n",
    "\n",
    "# Print the results\n",
    "print('INPUT:')\n",
    "[print(sequence.numpy()) for sequence in sequences]\n",
    "print()\n",
    "\n",
    "print('OUTPUT:')\n",
    "print(sequences_post_trunc)"
   ]
  },
  {
   "cell_type": "code",
   "execution_count": 7,
   "id": "4fd41376-3292-4911-a409-d2d8e56882ed",
   "metadata": {},
   "outputs": [
    {
     "name": "stdout",
     "output_type": "stream",
     "text": [
      "<tf.RaggedTensor [[6, 3, 2, 4], [6, 3, 2, 10], [5, 3, 2, 4], [9, 5, 7, 2, 4, 8, 11]]>\n"
     ]
    }
   ],
   "source": [
    "# Set the layer to output a ragged tensor\n",
    "vectorize_layer = tf.keras.layers.TextVectorization(ragged=True)\n",
    "\n",
    "# Compute the vocabulary\n",
    "vectorize_layer.adapt(sentences)\n",
    "\n",
    "# Apply the layer to the sentences\n",
    "ragged_sequences = vectorize_layer(sentences)\n",
    "\n",
    "# Print the results\n",
    "print(ragged_sequences)"
   ]
  },
  {
   "cell_type": "code",
   "execution_count": 8,
   "id": "dfa743eb-8790-4726-808c-8c6eed94b0cc",
   "metadata": {},
   "outputs": [
    {
     "name": "stdout",
     "output_type": "stream",
     "text": [
      "[[ 0  0  0  6  3  2  4]\n",
      " [ 0  0  0  6  3  2 10]\n",
      " [ 0  0  0  5  3  2  4]\n",
      " [ 9  5  7  2  4  8 11]]\n"
     ]
    }
   ],
   "source": [
    "# Pre-pad the sequences in the ragged tensor\n",
    "sequences_pre = tf.keras.utils.pad_sequences(ragged_sequences.numpy())\n",
    "\n",
    "# Print the results\n",
    "print(sequences_pre)"
   ]
  },
  {
   "cell_type": "markdown",
   "id": "222140f1-f631-441c-81da-d1b2a86138b3",
   "metadata": {},
   "source": [
    "# Out-of-vocabulary"
   ]
  },
  {
   "cell_type": "code",
   "execution_count": 10,
   "id": "a5628d18-3c66-4384-9504-a59be5a7495a",
   "metadata": {},
   "outputs": [
    {
     "name": "stdout",
     "output_type": "stream",
     "text": [
      "i really love my dog ---> [6 1 3 2 4]\n",
      "my dog loves my manatee ---> [2 4 1 2 1]\n"
     ]
    }
   ],
   "source": [
    "# Try with words that are not in the vocabulary\n",
    "sentences_with_oov = [\n",
    "    'i really love my dog',\n",
    "    'my dog loves my manatee'\n",
    "]\n",
    "\n",
    "# Generate the sequences\n",
    "sequences_with_oov = vectorize_layer(sentences_with_oov)\n",
    "\n",
    "# Print the integer sequences\n",
    "for sentence, sequence in zip(sentences_with_oov, sequences_with_oov):\n",
    "  print(f'{sentence} ---> {sequence}')"
   ]
  },
  {
   "cell_type": "code",
   "execution_count": null,
   "id": "db6b959a-9c21-41d2-a84b-a06d2a385b01",
   "metadata": {},
   "outputs": [],
   "source": []
  }
 ],
 "metadata": {
  "kernelspec": {
   "display_name": "Python 3 (ipykernel)",
   "language": "python",
   "name": "python3"
  },
  "language_info": {
   "codemirror_mode": {
    "name": "ipython",
    "version": 3
   },
   "file_extension": ".py",
   "mimetype": "text/x-python",
   "name": "python",
   "nbconvert_exporter": "python",
   "pygments_lexer": "ipython3",
   "version": "3.8.0"
  }
 },
 "nbformat": 4,
 "nbformat_minor": 5
}
