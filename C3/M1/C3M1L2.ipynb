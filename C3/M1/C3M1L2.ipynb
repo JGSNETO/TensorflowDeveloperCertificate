{
 "cells": [
  {
   "cell_type": "markdown",
   "id": "8949bb20-4053-461b-ab4a-ded90c55cea2",
   "metadata": {},
   "source": [
    "# Padding\n",
    "\n",
    "- Padding in natural language processing (NLP) is the process of adding extra tokens (usually zeros) to sequences of text so that they all have the same length.\n",
    "- This is important because many NLP models, especially those based on deep learning like RNNs and Transformers, require input sequences of the same length for efficient batch processing.\n",
    "- Padding ensures that shorter sequences are extended to match the longest sequence in a batch, allowing the model to handle variable-length input."
   ]
  },
  {
   "cell_type": "code",
   "execution_count": null,
   "id": "2639a277-1d05-4821-bd52-4447846cde3f",
   "metadata": {},
   "outputs": [],
   "source": []
  }
 ],
 "metadata": {
  "kernelspec": {
   "display_name": "Python 3 (ipykernel)",
   "language": "python",
   "name": "python3"
  },
  "language_info": {
   "codemirror_mode": {
    "name": "ipython",
    "version": 3
   },
   "file_extension": ".py",
   "mimetype": "text/x-python",
   "name": "python",
   "nbconvert_exporter": "python",
   "pygments_lexer": "ipython3",
   "version": "3.8.0"
  }
 },
 "nbformat": 4,
 "nbformat_minor": 5
}
